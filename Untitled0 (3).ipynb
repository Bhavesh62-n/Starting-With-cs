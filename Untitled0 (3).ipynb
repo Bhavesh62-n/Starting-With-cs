{
  "nbformat": 4,
  "nbformat_minor": 0,
  "metadata": {
    "colab": {
      "provenance": []
    },
    "kernelspec": {
      "name": "python3",
      "display_name": "Python 3"
    },
    "language_info": {
      "name": "python"
    }
  },
  "cells": [
    {
      "cell_type": "code",
      "execution_count": null,
      "metadata": {
        "id": "49BauwNuFjZR"
      },
      "outputs": [],
      "source": [
        "1. CSS Application Methods and Specificity\n",
        "\n",
        "\n",
        "   Task:\n",
        "Create a simple page using <div> tags, applying CSS in three ways:\n",
        "\n",
        "     Inline CSS\n",
        "\n",
        "     Internal CSS\n",
        "\n",
        "    External CSS\n",
        "    Also show how CSS conflicts are resolved."
      ]
    },
    {
      "cell_type": "code",
      "source": [
        "<!-- index.html -->\n",
        "<!DOCTYPE html>\n",
        "<html>\n",
        "<head>\n",
        "  <title>CSS Application</title>\n",
        "  <!-- Internal CSS -->\n",
        "  <style>\n",
        "    .box {\n",
        "      background-color: lightblue;\n",
        "      color: black;\n",
        "    }\n",
        "  </style>\n",
        "  <link rel=\"stylesheet\" href=\"styles.css\"> <!-- External CSS -->\n",
        "</head>\n",
        "<body>\n",
        "  <div class=\"box\" style=\"background-color: yellow;\">This is a styled div</div>\n",
        "</body>\n",
        "</html>"
      ],
      "metadata": {
        "id": "s8ovkWgJGdoW"
      },
      "execution_count": null,
      "outputs": []
    },
    {
      "cell_type": "code",
      "source": [
        "/* styles.css - External CSS */\n",
        ".box {\n",
        "  background-color: pink;\n",
        "  color: white;\n",
        "}"
      ],
      "metadata": {
        "id": "rYgfoTBwGfxZ"
      },
      "execution_count": null,
      "outputs": []
    },
    {
      "cell_type": "markdown",
      "source": [
        "2. Paragraph Styling with BEM Naming\n",
        "\n",
        "   Build an HTML page with multiple paragraphs. Use class selectors and the BEM (Block Element Modifier) convention.\n",
        "   "
      ],
      "metadata": {
        "id": "lU3Pos-hG8_L"
      }
    },
    {
      "cell_type": "code",
      "source": [
        "<!DOCTYPE html>\n",
        "<html lang=\"en\">\n",
        "<head>\n",
        "  <meta charset=\"UTF-8\">\n",
        "  <title>BEM Paragraph Styling</title>\n",
        "  <link rel=\"stylesheet\" href=\"css.css\">\n",
        "</head>\n",
        "<body>\n",
        "\n",
        "  <!-- Block: paragraph | Modifier: intro -->\n",
        "  <p class=\"paragraph paragraph--intro\">This is an introduction paragraph.</p>\n",
        "\n",
        "  <!-- Block: paragraph | Modifier: info -->\n",
        "  <p class=\"paragraph paragraph--info\">This paragraph contains informational content.</p>\n",
        "\n",
        "  <!-- Block: paragraph | Modifier: warning -->\n",
        "  <p class=\"paragraph paragraph--warning\">This paragraph displays a warning message.</p>\n",
        "\n",
        "</body>\n",
        "</html>"
      ],
      "metadata": {
        "id": "i8A1_SHEKdns"
      },
      "execution_count": null,
      "outputs": []
    },
    {
      "cell_type": "code",
      "source": [
        "/* Base block style */\n",
        ".paragraph {\n",
        "    font-size: 16px;\n",
        "    margin-bottom: 15px;\n",
        "    line-height: 1.6;\n",
        "  }\n",
        "\n",
        "  /* Modifier: Intro */\n",
        "  .paragraph--intro {\n",
        "    color: darkblue;\n",
        "    font-weight: bold;\n",
        "  }\n",
        "\n",
        "  /* Modifier: Info */\n",
        "  .paragraph--info {\n",
        "    color: green;\n",
        "    font-style: italic;\n",
        "  }\n",
        "\n",
        "  /* Modifier: Warning */\n",
        "  .paragraph--warning {\n",
        "    color: red;\n",
        "    background-color: #ffe6e6;\n",
        "  }"
      ],
      "metadata": {
        "id": "8Kz_YIcDKe89"
      },
      "execution_count": null,
      "outputs": []
    },
    {
      "cell_type": "markdown",
      "source": [
        "3. Form Styling and Opacity\n",
        "\n",
        "  Create a form, apply styles to input fields, use a custom color palette, and apply opacity to a section.\n",
        "  "
      ],
      "metadata": {
        "id": "5TVrb_DMKvXC"
      }
    },
    {
      "cell_type": "code",
      "source": [
        "<!DOCTYPE html>\n",
        "<html lang=\"en\">\n",
        "<head>\n",
        "  <meta charset=\"UTF-8\">\n",
        "  <title>Styled Form</title>\n",
        "  <link rel=\"stylesheet\" href=\"css.css\">\n",
        "</head>\n",
        "<body>\n",
        "\n",
        "  <form class=\"form\">\n",
        "    <h2 class=\"form__title\">Contact Us</h2>\n",
        "\n",
        "    <!-- Name Field -->\n",
        "    <div class=\"form__group\">\n",
        "      <label for=\"name\" class=\"form__label\">Name:</label>\n",
        "      <input type=\"text\" id=\"name\" class=\"form__input\">\n",
        "    </div>\n",
        "\n",
        "    <!-- Email Field -->\n",
        "    <div class=\"form__group\">\n",
        "      <label for=\"email\" class=\"form__label\">Email:</label>\n",
        "      <input type=\"email\" id=\"email\" class=\"form__input\">\n",
        "    </div>\n",
        "\n",
        "    <!-- Message Section with Opacity -->\n",
        "    <div class=\"form_group form_group--faded\">\n",
        "      <label for=\"message\" class=\"form__label\">Message:</label>\n",
        "      <textarea id=\"message\" class=\"form__input\"></textarea>\n",
        "    </div>\n",
        "\n",
        "    <!-- Submit Button -->\n",
        "    <button type=\"submit\" class=\"form__submit\">Send</button>\n",
        "  </form>\n",
        "\n",
        "</body>\n",
        "</html>"
      ],
      "metadata": {
        "id": "bdlsV8LsM2c5"
      },
      "execution_count": null,
      "outputs": []
    },
    {
      "cell_type": "code",
      "source": [
        "\n",
        "/* Custom Color Palette */\n",
        ":root {\n",
        "    --primary-color: #1e88e5;\n",
        "    --secondary-color: #f5f5f5;\n",
        "    --accent-color: #ff7043;\n",
        "    --text-color: #333;\n",
        "  }\n",
        "\n",
        "  /* Form Styling */\n",
        "  .form {\n",
        "    max-width: 400px;\n",
        "    margin: 50px auto;\n",
        "    padding: 20px;\n",
        "    background-color: var(--secondary-color);\n",
        "    border-radius: 10px;\n",
        "    box-shadow: 0 0 10px rgba(0, 0, 0, 0.1);\n",
        "  }\n",
        "\n",
        "  .form__title {\n",
        "    text-align: center;\n",
        "    color: var(--primary-color);\n",
        "  }\n",
        "\n",
        "  .form__group {\n",
        "    margin-bottom: 15px;\n",
        "  }\n",
        "\n",
        "  .form__label {\n",
        "    display: block;\n",
        "    margin-bottom: 5px;\n",
        "    color: var(--text-color);\n",
        "  }\n",
        "\n",
        "  .form__input {\n",
        "    width: 100%;\n",
        "    padding: 8px;\n",
        "    border: 1px solid var(--primary-color);\n",
        "    border-radius: 5px;\n",
        "    background-color: #fff;\n",
        "  }\n",
        "\n",
        "  /* Opacity applied to message section */\n",
        "  .form__group--faded {\n",
        "    opacity: 0.6;\n",
        "  }\n",
        "\n",
        "  /* Submit Button */\n",
        "  .form__submit {\n",
        "    background-color: var(--accent-color);\n",
        "    color: white;\n",
        "    padding: 10px 15px;\n",
        "    border: none;\n",
        "    border-radius: 5px;\n",
        "    cursor: pointer;\n",
        "    width: 100%;\n",
        "  }\n",
        ""
      ],
      "metadata": {
        "id": "CC_Euq53NsQk"
      },
      "execution_count": null,
      "outputs": []
    }
  ]
}